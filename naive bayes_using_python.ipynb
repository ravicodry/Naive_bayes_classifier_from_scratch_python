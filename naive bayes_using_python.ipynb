{
 "cells": [
  {
   "cell_type": "markdown",
   "metadata": {},
   "source": [
    "## Basics libraries"
   ]
  },
  {
   "cell_type": "code",
   "execution_count": 1,
   "metadata": {},
   "outputs": [
    {
     "name": "stderr",
     "output_type": "stream",
     "text": [
      "C:\\Users\\Manager\\Anaconda3\\lib\\site-packages\\statsmodels\\tools\\_testing.py:19: FutureWarning: pandas.util.testing is deprecated. Use the functions in the public API at pandas.testing instead.\n",
      "  import pandas.util.testing as tm\n"
     ]
    }
   ],
   "source": [
    "import numpy as np \n",
    "import pandas as pd\n",
    "import matplotlib.pyplot as plt\n",
    "import seaborn as sns\n",
    "sns.set_style(\"darkgrid\")"
   ]
  },
  {
   "cell_type": "markdown",
   "metadata": {},
   "source": [
    "## Iris Dataset"
   ]
  },
  {
   "cell_type": "code",
   "execution_count": 2,
   "metadata": {},
   "outputs": [
    {
     "data": {
      "text/html": [
       "<div>\n",
       "<style scoped>\n",
       "    .dataframe tbody tr th:only-of-type {\n",
       "        vertical-align: middle;\n",
       "    }\n",
       "\n",
       "    .dataframe tbody tr th {\n",
       "        vertical-align: top;\n",
       "    }\n",
       "\n",
       "    .dataframe thead th {\n",
       "        text-align: right;\n",
       "    }\n",
       "</style>\n",
       "<table border=\"1\" class=\"dataframe\">\n",
       "  <thead>\n",
       "    <tr style=\"text-align: right;\">\n",
       "      <th></th>\n",
       "      <th>Id</th>\n",
       "      <th>SepalLengthCm</th>\n",
       "      <th>SepalWidthCm</th>\n",
       "      <th>PetalLengthCm</th>\n",
       "      <th>PetalWidthCm</th>\n",
       "      <th>Species</th>\n",
       "    </tr>\n",
       "  </thead>\n",
       "  <tbody>\n",
       "    <tr>\n",
       "      <th>0</th>\n",
       "      <td>1</td>\n",
       "      <td>5.1</td>\n",
       "      <td>3.5</td>\n",
       "      <td>1.4</td>\n",
       "      <td>0.2</td>\n",
       "      <td>Iris-setosa</td>\n",
       "    </tr>\n",
       "    <tr>\n",
       "      <th>1</th>\n",
       "      <td>2</td>\n",
       "      <td>4.9</td>\n",
       "      <td>3.0</td>\n",
       "      <td>1.4</td>\n",
       "      <td>0.2</td>\n",
       "      <td>Iris-setosa</td>\n",
       "    </tr>\n",
       "    <tr>\n",
       "      <th>2</th>\n",
       "      <td>3</td>\n",
       "      <td>4.7</td>\n",
       "      <td>3.2</td>\n",
       "      <td>1.3</td>\n",
       "      <td>0.2</td>\n",
       "      <td>Iris-setosa</td>\n",
       "    </tr>\n",
       "    <tr>\n",
       "      <th>3</th>\n",
       "      <td>4</td>\n",
       "      <td>4.6</td>\n",
       "      <td>3.1</td>\n",
       "      <td>1.5</td>\n",
       "      <td>0.2</td>\n",
       "      <td>Iris-setosa</td>\n",
       "    </tr>\n",
       "    <tr>\n",
       "      <th>4</th>\n",
       "      <td>5</td>\n",
       "      <td>5.0</td>\n",
       "      <td>3.6</td>\n",
       "      <td>1.4</td>\n",
       "      <td>0.2</td>\n",
       "      <td>Iris-setosa</td>\n",
       "    </tr>\n",
       "    <tr>\n",
       "      <th>5</th>\n",
       "      <td>6</td>\n",
       "      <td>5.4</td>\n",
       "      <td>3.9</td>\n",
       "      <td>1.7</td>\n",
       "      <td>0.4</td>\n",
       "      <td>Iris-setosa</td>\n",
       "    </tr>\n",
       "    <tr>\n",
       "      <th>6</th>\n",
       "      <td>7</td>\n",
       "      <td>4.6</td>\n",
       "      <td>3.4</td>\n",
       "      <td>1.4</td>\n",
       "      <td>0.3</td>\n",
       "      <td>Iris-setosa</td>\n",
       "    </tr>\n",
       "    <tr>\n",
       "      <th>7</th>\n",
       "      <td>8</td>\n",
       "      <td>5.0</td>\n",
       "      <td>3.4</td>\n",
       "      <td>1.5</td>\n",
       "      <td>0.2</td>\n",
       "      <td>Iris-setosa</td>\n",
       "    </tr>\n",
       "    <tr>\n",
       "      <th>8</th>\n",
       "      <td>9</td>\n",
       "      <td>4.4</td>\n",
       "      <td>2.9</td>\n",
       "      <td>1.4</td>\n",
       "      <td>0.2</td>\n",
       "      <td>Iris-setosa</td>\n",
       "    </tr>\n",
       "    <tr>\n",
       "      <th>9</th>\n",
       "      <td>10</td>\n",
       "      <td>4.9</td>\n",
       "      <td>3.1</td>\n",
       "      <td>1.5</td>\n",
       "      <td>0.1</td>\n",
       "      <td>Iris-setosa</td>\n",
       "    </tr>\n",
       "  </tbody>\n",
       "</table>\n",
       "</div>"
      ],
      "text/plain": [
       "   Id  SepalLengthCm  SepalWidthCm  PetalLengthCm  PetalWidthCm      Species\n",
       "0   1            5.1           3.5            1.4           0.2  Iris-setosa\n",
       "1   2            4.9           3.0            1.4           0.2  Iris-setosa\n",
       "2   3            4.7           3.2            1.3           0.2  Iris-setosa\n",
       "3   4            4.6           3.1            1.5           0.2  Iris-setosa\n",
       "4   5            5.0           3.6            1.4           0.2  Iris-setosa\n",
       "5   6            5.4           3.9            1.7           0.4  Iris-setosa\n",
       "6   7            4.6           3.4            1.4           0.3  Iris-setosa\n",
       "7   8            5.0           3.4            1.5           0.2  Iris-setosa\n",
       "8   9            4.4           2.9            1.4           0.2  Iris-setosa\n",
       "9  10            4.9           3.1            1.5           0.1  Iris-setosa"
      ]
     },
     "execution_count": 2,
     "metadata": {},
     "output_type": "execute_result"
    }
   ],
   "source": [
    "df = pd.read_csv(\"Iris.csv\")\n",
    "df.head(10)"
   ]
  },
  {
   "cell_type": "code",
   "execution_count": 3,
   "metadata": {},
   "outputs": [
    {
     "data": {
      "text/plain": [
       "Index(['Id', 'SepalLengthCm', 'SepalWidthCm', 'PetalLengthCm', 'PetalWidthCm',\n",
       "       'Species'],\n",
       "      dtype='object')"
      ]
     },
     "execution_count": 3,
     "metadata": {},
     "output_type": "execute_result"
    }
   ],
   "source": [
    "df.columns"
   ]
  },
  {
   "cell_type": "code",
   "execution_count": 4,
   "metadata": {},
   "outputs": [
    {
     "data": {
      "text/html": [
       "<div>\n",
       "<style scoped>\n",
       "    .dataframe tbody tr th:only-of-type {\n",
       "        vertical-align: middle;\n",
       "    }\n",
       "\n",
       "    .dataframe tbody tr th {\n",
       "        vertical-align: top;\n",
       "    }\n",
       "\n",
       "    .dataframe thead th {\n",
       "        text-align: right;\n",
       "    }\n",
       "</style>\n",
       "<table border=\"1\" class=\"dataframe\">\n",
       "  <thead>\n",
       "    <tr style=\"text-align: right;\">\n",
       "      <th></th>\n",
       "      <th>SepalLengthCm</th>\n",
       "      <th>SepalWidthCm</th>\n",
       "      <th>PetalLengthCm</th>\n",
       "      <th>PetalWidthCm</th>\n",
       "      <th>Species</th>\n",
       "    </tr>\n",
       "  </thead>\n",
       "  <tbody>\n",
       "    <tr>\n",
       "      <th>0</th>\n",
       "      <td>5.1</td>\n",
       "      <td>3.5</td>\n",
       "      <td>1.4</td>\n",
       "      <td>0.2</td>\n",
       "      <td>Iris-setosa</td>\n",
       "    </tr>\n",
       "    <tr>\n",
       "      <th>1</th>\n",
       "      <td>4.9</td>\n",
       "      <td>3.0</td>\n",
       "      <td>1.4</td>\n",
       "      <td>0.2</td>\n",
       "      <td>Iris-setosa</td>\n",
       "    </tr>\n",
       "    <tr>\n",
       "      <th>2</th>\n",
       "      <td>4.7</td>\n",
       "      <td>3.2</td>\n",
       "      <td>1.3</td>\n",
       "      <td>0.2</td>\n",
       "      <td>Iris-setosa</td>\n",
       "    </tr>\n",
       "    <tr>\n",
       "      <th>3</th>\n",
       "      <td>4.6</td>\n",
       "      <td>3.1</td>\n",
       "      <td>1.5</td>\n",
       "      <td>0.2</td>\n",
       "      <td>Iris-setosa</td>\n",
       "    </tr>\n",
       "    <tr>\n",
       "      <th>4</th>\n",
       "      <td>5.0</td>\n",
       "      <td>3.6</td>\n",
       "      <td>1.4</td>\n",
       "      <td>0.2</td>\n",
       "      <td>Iris-setosa</td>\n",
       "    </tr>\n",
       "    <tr>\n",
       "      <th>5</th>\n",
       "      <td>5.4</td>\n",
       "      <td>3.9</td>\n",
       "      <td>1.7</td>\n",
       "      <td>0.4</td>\n",
       "      <td>Iris-setosa</td>\n",
       "    </tr>\n",
       "    <tr>\n",
       "      <th>6</th>\n",
       "      <td>4.6</td>\n",
       "      <td>3.4</td>\n",
       "      <td>1.4</td>\n",
       "      <td>0.3</td>\n",
       "      <td>Iris-setosa</td>\n",
       "    </tr>\n",
       "    <tr>\n",
       "      <th>7</th>\n",
       "      <td>5.0</td>\n",
       "      <td>3.4</td>\n",
       "      <td>1.5</td>\n",
       "      <td>0.2</td>\n",
       "      <td>Iris-setosa</td>\n",
       "    </tr>\n",
       "    <tr>\n",
       "      <th>8</th>\n",
       "      <td>4.4</td>\n",
       "      <td>2.9</td>\n",
       "      <td>1.4</td>\n",
       "      <td>0.2</td>\n",
       "      <td>Iris-setosa</td>\n",
       "    </tr>\n",
       "    <tr>\n",
       "      <th>9</th>\n",
       "      <td>4.9</td>\n",
       "      <td>3.1</td>\n",
       "      <td>1.5</td>\n",
       "      <td>0.1</td>\n",
       "      <td>Iris-setosa</td>\n",
       "    </tr>\n",
       "  </tbody>\n",
       "</table>\n",
       "</div>"
      ],
      "text/plain": [
       "   SepalLengthCm  SepalWidthCm  PetalLengthCm  PetalWidthCm      Species\n",
       "0            5.1           3.5            1.4           0.2  Iris-setosa\n",
       "1            4.9           3.0            1.4           0.2  Iris-setosa\n",
       "2            4.7           3.2            1.3           0.2  Iris-setosa\n",
       "3            4.6           3.1            1.5           0.2  Iris-setosa\n",
       "4            5.0           3.6            1.4           0.2  Iris-setosa\n",
       "5            5.4           3.9            1.7           0.4  Iris-setosa\n",
       "6            4.6           3.4            1.4           0.3  Iris-setosa\n",
       "7            5.0           3.4            1.5           0.2  Iris-setosa\n",
       "8            4.4           2.9            1.4           0.2  Iris-setosa\n",
       "9            4.9           3.1            1.5           0.1  Iris-setosa"
      ]
     },
     "execution_count": 4,
     "metadata": {},
     "output_type": "execute_result"
    }
   ],
   "source": [
    "df = df[['SepalLengthCm', 'SepalWidthCm', 'PetalLengthCm', 'PetalWidthCm',\n",
    "       'Species']]\n",
    "df.head(10)"
   ]
  },
  {
   "cell_type": "code",
   "execution_count": 5,
   "metadata": {},
   "outputs": [],
   "source": [
    "df['Species'].replace(to_replace=['Iris-setosa', 'Iris-versicolor', 'Iris-virginica'], value=[0, 1, 2], inplace=True)"
   ]
  },
  {
   "cell_type": "markdown",
   "metadata": {},
   "source": [
    "# Calculate prior"
   ]
  },
  {
   "cell_type": "code",
   "execution_count": 6,
   "metadata": {},
   "outputs": [],
   "source": [
    "def _prior(d, Y):\n",
    "    classes = sorted(list(d[Y].unique()))\n",
    "    prior = []\n",
    "    for i in classes:\n",
    "        prior.append(len(d[d[Y]==i])/len(d))\n",
    "    return prior"
   ]
  },
  {
   "cell_type": "markdown",
   "metadata": {},
   "source": [
    "## Calculate likelihood."
   ]
  },
  {
   "cell_type": "code",
   "execution_count": 7,
   "metadata": {},
   "outputs": [],
   "source": [
    "def calculate_likelihood_gaussian(d, var_name, var_val, Y, label):\n",
    "    feat = list(d.columns)\n",
    "    d = d[d[Y]==label]\n",
    "    mean, std = d[var_name].mean(), d[var_name].std()\n",
    "    p_x_given_y = (1 / (np.sqrt(2 * np.pi) * std)) *  np.exp(-((var_val-mean)**2 / (2 * std**2 )))\n",
    "    return p_x_given_y"
   ]
  },
  {
   "cell_type": "markdown",
   "metadata": {},
   "source": [
    "## Calculate posterior and find the maximum"
   ]
  },
  {
   "cell_type": "code",
   "execution_count": 8,
   "metadata": {},
   "outputs": [],
   "source": [
    "def naive_bayes_gaussian(d, X, Y):\n",
    "    # feature names\n",
    "    features = list(df.columns)[:-1]\n",
    "\n",
    "    # calculate prior\n",
    "    prior = _prior(d, Y)\n",
    "    prob=[]\n",
    "    Y_pred = []\n",
    "    # loop over every sample\n",
    "    for x in X:\n",
    "        # calculate likelihood\n",
    "        labels = sorted(list(d[Y].unique()))\n",
    "        likelihood = [1]*len(labels)\n",
    "        for j in range(len(labels)):\n",
    "            for i in range(len(features)):\n",
    "                likelihood[j] *= calculate_likelihood_gaussian(d, features[i], x[i], Y, labels[j])\n",
    "\n",
    "        # calculate posterior probability\n",
    "        post_prob = [1]*len(labels)\n",
    "        for j in range(len(labels)):\n",
    "            post_prob[j] = likelihood[j] * prior[j]\n",
    "            #prob.append(post_prob)\n",
    "        Y_pred.append(np.argmax(post_prob))\n",
    "        \n",
    "    #return prob\n",
    "    return np.array(Y_pred)\n",
    "    \n",
    "    "
   ]
  },
  {
   "cell_type": "markdown",
   "metadata": {},
   "source": [
    " # model"
   ]
  },
  {
   "cell_type": "code",
   "execution_count": 9,
   "metadata": {},
   "outputs": [
    {
     "name": "stdout",
     "output_type": "stream",
     "text": [
      "[[19  0  0]\n",
      " [ 0 12  1]\n",
      " [ 0  0 13]]\n"
     ]
    }
   ],
   "source": [
    "from sklearn.model_selection import train_test_split\n",
    "tr, tt = train_test_split(df, test_size=.3, random_state=42)\n",
    "\n",
    "X_test = tt.iloc[:,:-1].values\n",
    "Y_test = tt.iloc[:,-1].values\n",
    "Y_pred = naive_bayes_gaussian(tr, X=X_test, Y='Species')# performe train and test in single function call\n",
    "\n",
    "from sklearn.metrics import confusion_matrix, f1_score\n",
    "from sklearn.metrics import confusion_matrix\n",
    "print(confusion_matrix(Y_test, Y_pred))\n",
    "#print(f1_score(Y_test, Y_pred,average='micro'))\n",
    "#print(Y_test)\n",
    "#rint(Y_pred)\n",
    "#print(max(prob))\n"
   ]
  },
  {
   "cell_type": "markdown",
   "metadata": {},
   "source": [
    "# confusion matrix"
   ]
  },
  {
   "cell_type": "markdown",
   "metadata": {},
   "source": [
    "# accurcay"
   ]
  },
  {
   "cell_type": "code",
   "execution_count": 10,
   "metadata": {},
   "outputs": [
    {
     "name": "stdout",
     "output_type": "stream",
     "text": [
      "overall accuracy is 97.77777777777777\n",
      "Setosa accuracy is 100.0\n",
      "versicolor accuracy is 92.3076923076923\n",
      "Verginica accuracy is 100.0\n"
     ]
    }
   ],
   "source": [
    "from sklearn.metrics import confusion_matrix,accuracy_score\n",
    "import numpy as np\n",
    "acc=accuracy_score(Y_test, Y_pred)\n",
    "print(\"overall accuracy is {}\".format(acc*100))\n",
    "matrix=confusion_matrix(Y_test, Y_pred)\n",
    "#Now the normalize the diagonal entries\n",
    "matrix = matrix.astype('float') / matrix.sum(axis=1)[:, np.newaxis]\n",
    "#The diagonal entries are the accuracies of each class\n",
    "a=matrix.diagonal()\n",
    "print(\"Setosa accuracy is {}\".format(a[0]*100))\n",
    "print(\"versicolor accuracy is {}\".format(a[1]*100))\n",
    "print(\"Verginica accuracy is {}\".format(a[2]*100))"
   ]
  },
  {
   "cell_type": "code",
   "execution_count": 77,
   "metadata": {},
   "outputs": [
    {
     "name": "stdout",
     "output_type": "stream",
     "text": [
      "\n",
      "Classification Report\n",
      "\n",
      "              precision    recall  f1-score   support\n",
      "\n",
      "      Setosa       1.00      1.00      1.00        19\n",
      "  versicolor       1.00      0.92      0.96        13\n",
      "   virginica       0.93      1.00      0.96        13\n",
      "\n",
      "    accuracy                           0.98        45\n",
      "   macro avg       0.98      0.97      0.97        45\n",
      "weighted avg       0.98      0.98      0.98        45\n",
      "\n",
      "0.9777777777777777\n"
     ]
    }
   ],
   "source": [
    "from sklearn.metrics import classification_report\n",
    "print('\\nClassification Report\\n')\n",
    "print(classification_report(Y_test, Y_pred, target_names=['Setosa', 'versicolor', 'virginica']))\n",
    "\n",
    "# #class 0 accurcay\n",
    "# accuracy1=11/11\n",
    "# print(accuracy1)\n",
    "# accuracy2=\n",
    "# print(accuracy2)\n",
    "# accuracy3=len(Y_pred[Y_pred==2])/len(Y_test[Y_test==2])\n",
    "# print(accuracy3)\n",
    "accuracy=np.sum(Y_test==Y_pred)/len(Y_test)\n",
    "print(accuracy)"
   ]
  },
  {
   "cell_type": "markdown",
   "metadata": {},
   "source": [
    "# ROC curve"
   ]
  },
  {
   "cell_type": "code",
   "execution_count": 15,
   "metadata": {},
   "outputs": [],
   "source": [
    "def naive_bayes_gaussian(d, X, Y):\n",
    "    # feature names\n",
    "    features = list(df.columns)[:-1]\n",
    "\n",
    "    # calculate prior\n",
    "    prior = _prior(d, Y)\n",
    "    prob=[]\n",
    "    Y_pred = []\n",
    "    # loop over every sample\n",
    "    for x in X:\n",
    "        # calculate likelihood\n",
    "        labels = sorted(list(d[Y].unique()))\n",
    "        likelihood = [1]*len(labels)\n",
    "        for j in range(len(labels)):\n",
    "            for i in range(len(features)):\n",
    "                likelihood[j] *= calculate_likelihood_gaussian(d, features[i], x[i], Y, labels[j])\n",
    "\n",
    "        # calculate posterior probability\n",
    "        post_prob = [1]*len(labels)\n",
    "        for j in range(len(labels)):\n",
    "            post_prob[j] = likelihood[j] * prior[j]\n",
    "        prob.append(post_prob)\n",
    "        #Y_pred.append(np.argmax(post_prob))\n",
    "        \n",
    "    return np.array(prob)"
   ]
  },
  {
   "cell_type": "code",
   "execution_count": 16,
   "metadata": {},
   "outputs": [
    {
     "name": "stdout",
     "output_type": "stream",
     "text": [
      "<class 'numpy.ndarray'>\n"
     ]
    },
    {
     "data": {
      "text/plain": [
       "array([[3.64225969e-085, 2.60865745e-001, 1.32999214e-003],\n",
       "       [5.56590862e-002, 1.63590352e-014, 4.13831351e-021],\n",
       "       [2.92126388e-275, 4.39578223e-015, 7.76802916e-004],\n",
       "       [4.03155257e-088, 2.38110600e-001, 6.64710021e-003],\n",
       "       [1.59201842e-100, 4.95697806e-002, 1.02558638e-002],\n",
       "       [4.67863848e-001, 6.58144944e-013, 1.11850459e-020],\n",
       "       [2.03643917e-049, 1.91418459e-001, 8.92895515e-006],\n",
       "       [4.81825499e-164, 6.16467073e-008, 9.54430516e-002],\n",
       "       [1.03160100e-090, 5.16136052e-002, 3.74905730e-004],\n",
       "       [1.61376426e-055, 3.93790676e-001, 2.38181988e-005],\n",
       "       [1.30060890e-141, 4.96631991e-005, 1.50514577e-001],\n",
       "       [6.38770105e-001, 2.10305121e-016, 2.27662595e-024],\n",
       "       [4.65824406e-001, 3.07608456e-016, 1.15864618e-023],\n",
       "       [9.25063540e-001, 6.42505308e-016, 1.26036267e-023],\n",
       "       [1.15255640e+000, 7.35025205e-016, 5.81733351e-023],\n",
       "       [1.37054890e-101, 1.33745390e-002, 1.76778926e-002],\n",
       "       [6.13004224e-190, 7.92020601e-008, 1.91663438e-001],\n",
       "       [2.64572930e-052, 1.85777238e-001, 2.78669908e-006],\n",
       "       [2.70930097e-079, 4.27496402e-001, 9.00184055e-004],\n",
       "       [6.20959300e-179, 4.84120814e-007, 1.74113346e-001],\n",
       "       [1.35572275e+000, 8.38612874e-015, 1.49513616e-022],\n",
       "       [2.29033202e-119, 6.73473517e-003, 8.12318277e-002],\n",
       "       [8.30635218e-001, 7.61345733e-013, 1.23050176e-020],\n",
       "       [2.39875957e-172, 3.55577181e-006, 2.05091077e-001],\n",
       "       [3.45638481e-224, 1.08329047e-013, 3.46723823e-004],\n",
       "       [1.98355552e-167, 1.17408904e-007, 1.29940433e-001],\n",
       "       [7.87668849e-168, 3.84701561e-005, 5.55869993e-002],\n",
       "       [3.64197279e-204, 8.21320733e-010, 9.79292638e-002],\n",
       "       [1.31123235e+000, 3.77471570e-014, 1.35883105e-022],\n",
       "       [1.40596224e+000, 1.99718151e-014, 2.67568450e-022],\n",
       "       [4.90671611e-002, 2.21375108e-019, 3.35473900e-027],\n",
       "       [2.29462711e-003, 1.85324933e-018, 2.20453236e-024],\n",
       "       [1.35936484e-083, 6.00370968e-002, 3.33984777e-003],\n",
       "       [1.77926251e+000, 3.44049286e-015, 1.20383205e-022],\n",
       "       [3.96195837e-001, 7.19701207e-017, 5.90790769e-025],\n",
       "       [3.40518030e-131, 1.25005664e-003, 4.23215139e-002],\n",
       "       [1.08764445e-089, 4.96796616e-002, 7.63592189e-003],\n",
       "       [1.87961885e+000, 1.75661426e-015, 8.23704136e-023],\n",
       "       [1.97463777e+000, 1.32866199e-016, 5.97662657e-024],\n",
       "       [1.37634873e-001, 8.72335673e-020, 7.27025373e-026],\n",
       "       [3.12249989e-133, 1.63433707e-003, 6.07521199e-002],\n",
       "       [2.61181552e-092, 1.23935947e-002, 4.87396661e-003],\n",
       "       [1.75686630e-099, 2.80688112e-002, 1.71637813e-002],\n",
       "       [1.13814715e-001, 3.83867455e-016, 2.38885589e-023],\n",
       "       [7.51580167e-001, 3.70685753e-016, 4.25953550e-023]])"
      ]
     },
     "execution_count": 16,
     "metadata": {},
     "output_type": "execute_result"
    }
   ],
   "source": [
    "prob = naive_bayes_gaussian(tr, X=X_test, Y='Species')\n",
    "print(type(prob))\n",
    "len(prob)\n",
    "prob"
   ]
  },
  {
   "cell_type": "code",
   "execution_count": 27,
   "metadata": {},
   "outputs": [
    {
     "data": {
      "text/plain": [
       "array([[1.38913764e-084, 9.94927484e-001, 5.07251624e-003],\n",
       "       [1.00000000e+000, 2.93914908e-013, 7.43510861e-020],\n",
       "       [3.76062424e-272, 5.65881272e-012, 1.00000000e+000],\n",
       "       [1.64716067e-087, 9.72842120e-001, 2.71578798e-002],\n",
       "       [2.66109698e-099, 8.28570775e-001, 1.71429225e-001],\n",
       "       [1.00000000e+000, 1.40670186e-012, 2.39066257e-020],\n",
       "       [1.06381808e-048, 9.99953356e-001, 4.66440840e-005],\n",
       "       [5.04830032e-163, 6.45900005e-007, 9.99999354e-001],\n",
       "       [1.98428649e-089, 9.92788681e-001, 7.21131886e-003],\n",
       "       [4.09777773e-055, 9.99939519e-001, 6.04807571e-005],\n",
       "       [8.63823242e-141, 3.29847239e-004, 9.99670153e-001],\n",
       "       [1.00000000e+000, 3.29234445e-016, 3.56407717e-024],\n",
       "       [1.00000000e+000, 6.60352812e-016, 2.48730243e-023],\n",
       "       [1.00000000e+000, 6.94552622e-016, 1.36246065e-023],\n",
       "       [1.00000000e+000, 6.37734695e-016, 5.04733088e-023],\n",
       "       [4.41366047e-100, 4.30708266e-001, 5.69291734e-001],\n",
       "       [3.19833546e-189, 4.13234930e-007, 9.99999587e-001],\n",
       "       [1.42411936e-051, 9.99985000e-001, 1.49999931e-005],\n",
       "       [6.32428236e-079, 9.97898713e-001, 2.10128671e-003],\n",
       "       [3.56639849e-178, 2.78048456e-006, 9.99997220e-001],\n",
       "       [1.00000000e+000, 6.18572547e-015, 1.10283327e-022],\n",
       "       [2.60363932e-118, 7.65601719e-002, 9.23439828e-001],\n",
       "       [1.00000000e+000, 9.16582535e-013, 1.48139849e-020],\n",
       "       [1.16958671e-171, 1.73372251e-005, 9.99982663e-001],\n",
       "       [9.96869722e-221, 3.12436124e-010, 1.00000000e+000],\n",
       "       [1.52651001e-166, 9.03558617e-007, 9.99999096e-001],\n",
       "       [1.41602194e-166, 6.91592476e-004, 9.99308408e-001],\n",
       "       [3.71898308e-203, 8.38687736e-009, 9.99999992e-001],\n",
       "       [1.00000000e+000, 2.87875425e-014, 1.03630074e-022],\n",
       "       [1.00000000e+000, 1.42050864e-014, 1.90309840e-022],\n",
       "       [1.00000000e+000, 4.51167549e-018, 6.83703504e-026],\n",
       "       [1.00000000e+000, 8.07647271e-016, 9.60736648e-022],\n",
       "       [2.14488857e-082, 9.47301849e-001, 5.26981506e-002],\n",
       "       [1.00000000e+000, 1.93366231e-015, 6.76590467e-023],\n",
       "       [1.00000000e+000, 1.81652895e-016, 1.49115845e-024],\n",
       "       [7.81514244e-130, 2.86897311e-002, 9.71310269e-001],\n",
       "       [1.89764176e-088, 8.66774070e-001, 1.33225930e-001],\n",
       "       [1.00000000e+000, 9.34558760e-016, 4.38229345e-023],\n",
       "       [1.00000000e+000, 6.72863656e-017, 3.02669515e-024],\n",
       "       [1.00000000e+000, 6.33804249e-019, 5.28227590e-025],\n",
       "       [5.00509252e-132, 2.61969850e-002, 9.73803015e-001],\n",
       "       [1.51255610e-090, 7.17738566e-001, 2.82261434e-001],\n",
       "       [3.88407163e-098, 6.20543941e-001, 3.79456059e-001],\n",
       "       [1.00000000e+000, 3.37274011e-015, 2.09889898e-022],\n",
       "       [1.00000000e+000, 4.93208535e-016, 5.66744000e-023]])"
      ]
     },
     "execution_count": 27,
     "metadata": {},
     "output_type": "execute_result"
    }
   ],
   "source": [
    "prob1 = prob.sum(axis=1)\n",
    "normalized_array = prob / prob1[:, np.newaxis]\n",
    "normalized_array"
   ]
  },
  {
   "cell_type": "code",
   "execution_count": 36,
   "metadata": {},
   "outputs": [
    {
     "data": {
      "text/plain": [
       "1.0"
      ]
     },
     "execution_count": 36,
     "metadata": {},
     "output_type": "execute_result"
    }
   ],
   "source": [
    "from sklearn.metrics import roc_auc_score\n",
    "roc_auc_score(Y_test,normalized_array,multi_class='ovr')"
   ]
  },
  {
   "cell_type": "code",
   "execution_count": 75,
   "metadata": {},
   "outputs": [
    {
     "data": {
      "text/plain": [
       "[]"
      ]
     },
     "execution_count": 75,
     "metadata": {},
     "output_type": "execute_result"
    },
    {
     "data": {
      "image/png": "[encoded data removed]",
      "text/plain": [
       "<Figure size 432x288 with 1 Axes>"
      ]
     },
     "metadata": {
      "needs_background": "light"
     },
     "output_type": "display_data"
    }
   ],
   "source": [
    "# roc curve for classes\n",
    "from sklearn.metrics import roc_curve\n",
    "fpr = {}\n",
    "tpr = {}\n",
    "thresh ={}\n",
    "\n",
    "n_class = 3\n",
    "\n",
    "for i in range(n_class):    \n",
    "    fpr[i], tpr[i], thresh[i] = roc_curve(Y_test, prob[:,i], pos_label=i)\n",
    "    \n",
    "#plotting    \n",
    "plt.plot(fpr[0], tpr[0], linestyle='--',color='orange', label='Class 0 vs Rest')\n",
    "plt.plot()\n",
    "plt.plot(fpr[1], tpr[1], linestyle='--',color='green', label='Class 1 vs Rest')\n",
    "plt.plot()\n",
    "plt.plot(fpr[2], tpr[2], linestyle='--',color='blue', label='Class 2 vs Rest')\n",
    "plt.plot()\n",
    "plt.title('Multiclass ROC curve')\n",
    "plt.xlabel('False Positive Rate')\n",
    "plt.ylabel('True Positive rate')\n",
    "plt.legend(loc='best')\n",
    "#plt.savefig('Multiclass ROC',dpi=300)\n",
    "plt.plot()\n",
    "plt.plot()"
   ]
  },
  {
   "cell_type": "code",
   "execution_count": 76,
   "metadata": {},
   "outputs": [
    {
     "data": {
      "image/png": "[encoded data removed]",
      "text/plain": [
       "<Figure size 432x288 with 1 Axes>"
      ]
     },
     "metadata": {
      "needs_background": "light"
     },
     "output_type": "display_data"
    }
   ],
   "source": [
    "# roc curve for classes\n",
    "fpr = {}\n",
    "tpr = {}\n",
    "thresh ={}\n",
    "\n",
    "n_class = 3\n",
    "\n",
    "for i in range(n_class):    \n",
    "    fpr[i], tpr[i], thresh[i] = roc_curve(Y_test, Y_pred, pos_label=i)\n",
    "    \n",
    "# plotting    \n",
    "plt.plot(fpr[0], tpr[0], linestyle='--',color='yellow', label='Setosa  vs Rest')\n",
    "plt.plot(fpr[1], tpr[1], linestyle='--',color='orange', label='virsicolor vs Rest')\n",
    "plt.plot(fpr[2], tpr[2], linestyle='--',color='blue', label='Virginica vs Rest')\n",
    "plt.title('Multiclass ROC curve')\n",
    "plt.xlabel('False Positive Rate')\n",
    "plt.ylabel('True Positive rate')\n",
    "plt.legend(loc='best')\n",
    "plt.savefig('Multiclass ROC',dpi=300);  "
   ]
  },
  {
   "cell_type": "code",
   "execution_count": null,
   "metadata": {},
   "outputs": [],
   "source": []
  },
  {
   "cell_type": "code",
   "execution_count": null,
   "metadata": {},
   "outputs": [],
   "source": []
  }
 ],
 "metadata": {
  "kernelspec": {
   "display_name": "Python 3",
   "language": "python",
   "name": "python3"
  },
  "language_info": {
   "codemirror_mode": {
    "name": "ipython",
    "version": 3
   },
   "file_extension": ".py",
   "mimetype": "text/x-python",
   "name": "python",
   "nbconvert_exporter": "python",
   "pygments_lexer": "ipython3",
   "version": "3.7.3"
  }
 },
 "nbformat": 4,
 "nbformat_minor": 2
}
